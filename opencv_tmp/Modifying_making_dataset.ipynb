{
 "cells": [
  {
   "cell_type": "code",
   "execution_count": 1,
   "metadata": {},
   "outputs": [
    {
     "name": "stderr",
     "output_type": "stream",
     "text": [
      "Using TensorFlow backend.\n"
     ]
    }
   ],
   "source": [
    "from sklearn.cluster import KMeans\n",
    "import matplotlib.pyplot as plt\n",
    "import numpy as np\n",
    "import cv2\n",
    "from skimage.color import rgb2lab, deltaE_cie76\n",
    "import os\n",
    "import cvlib as cv\n",
    "from cvlib.object_detection import draw_bbox\n",
    "import PIL.Image as pilimg\n",
    "import glob\n",
    "\n",
    "%matplotlib inline"
   ]
  },
  {
   "cell_type": "markdown",
   "metadata": {},
   "source": [
    "# 경로 내 이미지 파일의 Bounding box 좌표 추출"
   ]
  },
  {
   "cell_type": "code",
   "execution_count": 2,
   "metadata": {},
   "outputs": [],
   "source": [
    "file_list = glob.glob('C:\\\\Users\\\\mb910\\\\mulcam_project\\\\dataset\\\\clothing-co-parsing\\\\photos\\\\*')[:10]\n",
    "box_dict={}\n",
    "\n",
    "\n",
    "for idx, file in enumerate(file_list):\n",
    "    bg = cv2.cvtColor(cv2.imread(file), cv2.COLOR_BGR2RGB)\n",
    "    bbox, label, conf = cv.detect_common_objects(bg)\n",
    "    box_dict[idx] = [bbox, label, conf]\n",
    "\n",
    "bbox = []\n",
    "for i in range(len(box_dict)):\n",
    "    bbox.append(box_dict[i][0][box_dict[i][1].index('person')])"
   ]
  },
  {
   "cell_type": "markdown",
   "metadata": {},
   "source": [
    "# Background 와 Object 분리해서 fsh_dataset에 list 형태로 저장"
   ]
  },
  {
   "cell_type": "code",
   "execution_count": 3,
   "metadata": {},
   "outputs": [],
   "source": [
    "fsh_dataset = {}\n",
    "cloth_clr = []\n",
    "bg_clr = []\n",
    "for idx, file in enumerate(file_list):    \n",
    "    im = pilimg.open(file)\n",
    "    bg = np.array(im)\n",
    "    cloth = bg.copy()[bbox[idx][1]:bbox[idx][3], bbox[idx][0]:bbox[idx][2]]\n",
    "    cloth_clr.append(cloth.tolist())\n",
    "    bg[bbox[idx][1]:bbox[idx][3], bbox[idx][0]:bbox[idx][2]] = -1 # 해당 부분의 RGB값을 [255,255,255]로 변경\n",
    "    bg_clr.append(bg.tolist())\n",
    "\n",
    "fsh_dataset['target'] = cloth_clr\n",
    "fsh_dataset['data'] = bg_clr"
   ]
  },
  {
   "cell_type": "markdown",
   "metadata": {},
   "source": [
    "# Background 에서 RGB [255,255,255] 제거"
   ]
  },
  {
   "cell_type": "code",
   "execution_count": 4,
   "metadata": {},
   "outputs": [],
   "source": [
    "for idx in range(len(fsh_dataset['data'])):\n",
    "    for i in range(len(fsh_dataset['data'][idx])):\n",
    "        fsh_dataset['data'][idx][i] = list(filter(lambda x: x!= [255,255,255], fsh_dataset['data'][idx][i]))"
   ]
  },
  {
   "cell_type": "markdown",
   "metadata": {},
   "source": [
    "# Kmeans 모델 fitting"
   ]
  },
  {
   "cell_type": "code",
   "execution_count": 5,
   "metadata": {},
   "outputs": [
    {
     "data": {
      "text/plain": [
       "KMeans(algorithm='auto', copy_x=True, init='k-means++', max_iter=300,\n",
       "       n_clusters=5, n_init=10, n_jobs=None, precompute_distances='auto',\n",
       "       random_state=None, tol=0.0001, verbose=0)"
      ]
     },
     "execution_count": 5,
     "metadata": {},
     "output_type": "execute_result"
    }
   ],
   "source": [
    "clt = KMeans(n_clusters=5)\n",
    "clt2 = KMeans(n_clusters=5)\n",
    "\n",
    "clt.fit(sum(fsh_dataset['data'][1], []))  # Background 대표 색상 추출을 위한 모델 fitting\n",
    "clt2.fit(sum(fsh_dataset['target'][1], []))  # Object 대표 색상 추출을 위한 모델 fitting"
   ]
  },
  {
   "cell_type": "markdown",
   "metadata": {},
   "source": [
    "# 대표 색상 시각화 ( 위: background // 아래 : object)"
   ]
  },
  {
   "cell_type": "code",
   "execution_count": 6,
   "metadata": {},
   "outputs": [],
   "source": [
    "def find_histogram(clt):\n",
    "    \"\"\"\n",
    "    create a histogram with k clusters\n",
    "    :param: clt\n",
    "    :return:hist\n",
    "    \"\"\"\n",
    "    numLabels = np.arange(0, len(np.unique(clt.labels_)) + 1)\n",
    "    (hist, _) = np.histogram(clt.labels_, bins=numLabels)\n",
    "\n",
    "    hist = hist.astype(\"float\")\n",
    "    hist /= hist.sum()\n",
    "\n",
    "    return hist\n",
    "def plot_colors2(hist, centroids):\n",
    "    bar = np.zeros((50, 300, 3), dtype=\"uint8\")\n",
    "    startX = 0\n",
    "\n",
    "    for (percent, color) in zip(hist, centroids):\n",
    "        # plot the relative percentage of each cluster\n",
    "        endX = startX + (percent * 300)\n",
    "        cv2.rectangle(bar, (int(startX), 0), (int(endX), 50),\n",
    "                      color.astype(\"uint8\").tolist(), -1)\n",
    "        startX = endX\n",
    "\n",
    "    # return the bar chart\n",
    "    return bar"
   ]
  },
  {
   "cell_type": "code",
   "execution_count": 7,
   "metadata": {},
   "outputs": [
    {
     "data": {
      "image/png": "[encoded data removed]",
      "text/plain": [
       "<Figure size 432x288 with 1 Axes>"
      ]
     },
     "metadata": {
      "needs_background": "light"
     },
     "output_type": "display_data"
    }
   ],
   "source": [
    "hist = find_histogram(clt)\n",
    "bar = plot_colors2(hist, clt.cluster_centers_)\n",
    "plt.axis(\"off\")\n",
    "plt.imshow(bar)\n",
    "plt.show()"
   ]
  },
  {
   "cell_type": "code",
   "execution_count": 8,
   "metadata": {},
   "outputs": [
    {
     "data": {
      "image/png": "[encoded data removed]",
      "text/plain": [
       "<Figure size 432x288 with 1 Axes>"
      ]
     },
     "metadata": {
      "needs_background": "light"
     },
     "output_type": "display_data"
    }
   ],
   "source": [
    "hist = find_histogram(clt2)\n",
    "bar = plot_colors2(hist, clt2.cluster_centers_)\n",
    "plt.axis(\"off\")\n",
    "plt.imshow(bar)\n",
    "plt.show()"
   ]
  },
  {
   "cell_type": "code",
   "execution_count": 9,
   "metadata": {},
   "outputs": [
    {
     "data": {
      "text/plain": [
       "array([[183.27162996, 182.35957164, 178.69819397],\n",
       "       [135.37283496, 132.41243969, 123.82554435],\n",
       "       [227.81345178, 226.66975375, 220.89955719],\n",
       "       [159.30524055, 157.30049092, 150.49586402],\n",
       "       [103.6200495 , 101.49482219,  92.28995757]])"
      ]
     },
     "execution_count": 9,
     "metadata": {},
     "output_type": "execute_result"
    }
   ],
   "source": [
    "clt.cluster_centers_"
   ]
  },
  {
   "cell_type": "code",
   "execution_count": 10,
   "metadata": {},
   "outputs": [
    {
     "data": {
      "text/plain": [
       "array([[ 22.61178078,  25.47543414,  27.93101448],\n",
       "       [158.69440261, 153.96604926, 146.38302463],\n",
       "       [ 60.47970678,  58.32803125,  59.25019812],\n",
       "       [211.81446898, 212.15743748, 211.39054888],\n",
       "       [114.19701727, 108.90345369, 103.50476564]])"
      ]
     },
     "execution_count": 10,
     "metadata": {},
     "output_type": "execute_result"
    }
   ],
   "source": [
    "clt2.cluster_centers_"
   ]
  }
 ],
 "metadata": {
  "kernelspec": {
   "display_name": "Python 3",
   "language": "python",
   "name": "python3"
  },
  "language_info": {
   "codemirror_mode": {
    "name": "ipython",
    "version": 3
   },
   "file_extension": ".py",
   "mimetype": "text/x-python",
   "name": "python",
   "nbconvert_exporter": "python",
   "pygments_lexer": "ipython3",
   "version": "3.7.6"
  }
 },
 "nbformat": 4,
 "nbformat_minor": 4
}
